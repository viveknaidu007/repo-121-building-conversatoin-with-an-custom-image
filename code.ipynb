{
 "cells": [
  {
   "cell_type": "code",
   "execution_count": null,
   "metadata": {},
   "outputs": [],
   "source": [
    "#  task :\n",
    "\n"
   ]
  },
  {
   "cell_type": "markdown",
   "metadata": {},
   "source": [
    "Conversation over a Bank Statement\n",
    "\n",
    "Given a bank statement table or any such relational data stored in a structured format in a database, the user should be able to chat and ask questions from the data. \n",
    "\n",
    "For eg. Below is a sample bank statement (assume that it is present in a readable format), the following sample queries could be asked by the user.\n",
    "a)\tHow much is my spend on online shopping\n",
    "i)\tExpected answer should fetch spends from e-commerce websites such as Amazon, Myntra, etc\n",
    "b)\tHow much money i have spent on food and travel\n",
    "i)\tExpected answer should fetch items from payment at hotels, restaurants, online food delivery portals, etc\n",
    "\n",
    "Essentially, the model should broadly capture association of  query with the data present in the bank statement. \n",
    "\n",
    "1.\tPrepare an architecture diagram with the relevant documentation capturing:\n",
    "a)\tPossible solution approaches\n",
    "b)\tPossible problems with these solutions\n",
    "\n",
    "      2.  Implement one of the suggested approaches as a workable solution for demonstration.\n",
    "\n"
   ]
  },
  {
   "cell_type": "markdown",
   "metadata": {},
   "source": [
    "![p](img\\img1.png)"
   ]
  },
  {
   "cell_type": "code",
   "execution_count": null,
   "metadata": {},
   "outputs": [],
   "source": [
    "#solution:"
   ]
  },
  {
   "cell_type": "code",
   "execution_count": null,
   "metadata": {},
   "outputs": [],
   "source": [
    "#"
   ]
  },
  {
   "cell_type": "code",
   "execution_count": 4,
   "metadata": {},
   "outputs": [
    {
     "name": "stdout",
     "output_type": "stream",
     "text": [
      "Collecting pytesseract\n",
      "  Downloading pytesseract-0.3.10-py3-none-any.whl.metadata (11 kB)\n",
      "Requirement already satisfied: packaging>=21.3 in c:\\users\\poppo\\appdata\\roaming\\python\\python310\\site-packages (from pytesseract) (23.2)\n",
      "Collecting Pillow>=8.0.0 (from pytesseract)\n",
      "  Using cached pillow-10.3.0-cp310-cp310-win_amd64.whl.metadata (9.4 kB)\n",
      "Downloading pytesseract-0.3.10-py3-none-any.whl (14 kB)\n",
      "Using cached pillow-10.3.0-cp310-cp310-win_amd64.whl (2.5 MB)\n",
      "Installing collected packages: Pillow, pytesseract\n",
      "Successfully installed Pillow-10.3.0 pytesseract-0.3.10\n"
     ]
    },
    {
     "name": "stderr",
     "output_type": "stream",
     "text": [
      "ERROR: pip's dependency resolver does not currently take into account all the packages that are installed. This behaviour is the source of the following dependency conflicts.\n",
      "object-detection 0.0.3 requires jupyter, which is not installed.\n",
      "object-detection 0.0.3 requires lxml, which is not installed.\n",
      "object-detection 0.0.3 requires matplotlib, which is not installed.\n"
     ]
    }
   ],
   "source": [
    "!pip install pytesseract"
   ]
  },
  {
   "cell_type": "code",
   "execution_count": 6,
   "metadata": {},
   "outputs": [
    {
     "name": "stdout",
     "output_type": "stream",
     "text": [
      "Requirement already satisfied: pytesseract in c:\\users\\poppo\\anaconda3\\envs\\image1\\lib\\site-packages (0.3.10)\n",
      "Requirement already satisfied: pillow in c:\\users\\poppo\\anaconda3\\envs\\image1\\lib\\site-packages (10.3.0)\n",
      "Requirement already satisfied: packaging>=21.3 in c:\\users\\poppo\\appdata\\roaming\\python\\python310\\site-packages (from pytesseract) (23.2)\n"
     ]
    }
   ],
   "source": [
    "!pip install pytesseract pillow\n"
   ]
  },
  {
   "cell_type": "code",
   "execution_count": 9,
   "metadata": {},
   "outputs": [
    {
     "name": "stdout",
     "output_type": "stream",
     "text": [
      "Requirement already satisfied: pytesseract in c:\\users\\poppo\\anaconda3\\envs\\image1\\lib\\site-packages (0.3.10)\n",
      "Requirement already satisfied: pillow in c:\\users\\poppo\\anaconda3\\envs\\image1\\lib\\site-packages (10.3.0)\n",
      "Collecting pandas\n",
      "  Using cached pandas-2.2.2-cp310-cp310-win_amd64.whl.metadata (19 kB)\n",
      "Requirement already satisfied: packaging>=21.3 in c:\\users\\poppo\\appdata\\roaming\\python\\python310\\site-packages (from pytesseract) (23.2)\n",
      "Collecting numpy>=1.22.4 (from pandas)\n",
      "  Using cached numpy-2.0.0-cp310-cp310-win_amd64.whl.metadata (60 kB)\n",
      "Requirement already satisfied: python-dateutil>=2.8.2 in c:\\users\\poppo\\anaconda3\\envs\\image1\\lib\\site-packages (from pandas) (2.9.0)\n",
      "Collecting pytz>=2020.1 (from pandas)\n",
      "  Using cached pytz-2024.1-py2.py3-none-any.whl.metadata (22 kB)\n",
      "Collecting tzdata>=2022.7 (from pandas)\n",
      "  Using cached tzdata-2024.1-py2.py3-none-any.whl.metadata (1.4 kB)\n",
      "Requirement already satisfied: six>=1.5 in c:\\users\\poppo\\anaconda3\\envs\\image1\\lib\\site-packages (from python-dateutil>=2.8.2->pandas) (1.16.0)\n",
      "Using cached pandas-2.2.2-cp310-cp310-win_amd64.whl (11.6 MB)\n",
      "Using cached numpy-2.0.0-cp310-cp310-win_amd64.whl (16.5 MB)\n",
      "Using cached pytz-2024.1-py2.py3-none-any.whl (505 kB)\n",
      "Using cached tzdata-2024.1-py2.py3-none-any.whl (345 kB)\n",
      "Installing collected packages: pytz, tzdata, numpy, pandas\n",
      "Successfully installed numpy-2.0.0 pandas-2.2.2 pytz-2024.1 tzdata-2024.1\n"
     ]
    },
    {
     "name": "stderr",
     "output_type": "stream",
     "text": [
      "ERROR: pip's dependency resolver does not currently take into account all the packages that are installed. This behaviour is the source of the following dependency conflicts.\n",
      "keras-applications 1.0.8 requires h5py, which is not installed.\n",
      "efficientnet 1.1.1 requires scikit-image, which is not installed.\n",
      "spacy 3.6.1 requires jinja2, which is not installed.\n",
      "spacy 3.6.1 requires requests<3.0.0,>=2.13.0, which is not installed.\n",
      "spacy 3.6.1 requires smart-open<7.0.0,>=5.2.1, which is not installed.\n",
      "spacy 3.6.1 requires tqdm<5.0.0,>=4.38.0, which is not installed.\n",
      "tensorboard 2.13.0 requires google-auth<3,>=1.6.3, which is not installed.\n",
      "tensorboard 2.13.0 requires grpcio>=1.48.2, which is not installed.\n",
      "tensorboard 2.13.0 requires markdown>=2.6.8, which is not installed.\n",
      "tensorboard 2.13.0 requires requests<3,>=2.21.0, which is not installed.\n",
      "tensorboard 2.13.0 requires werkzeug>=1.0.1, which is not installed.\n",
      "tensorflow-intel 2.13.0 requires grpcio<2.0,>=1.24.3, which is not installed.\n",
      "tensorflow-intel 2.13.0 requires h5py>=2.9.0, which is not installed.\n",
      "tensorflow-intel 2.13.0 requires wrapt>=1.11.0, which is not installed.\n",
      "xgboost 1.7.6 requires scipy, which is not installed.\n",
      "tensorflow-intel 2.13.0 requires numpy<=1.24.3,>=1.22, but you have numpy 2.0.0 which is incompatible.\n",
      "tensorflow-intel 2.13.0 requires typing-extensions<4.6.0,>=3.6.6, but you have typing-extensions 4.12.2 which is incompatible.\n"
     ]
    }
   ],
   "source": [
    "!pip install pytesseract pillow pandas"
   ]
  },
  {
   "cell_type": "code",
   "execution_count": 2,
   "metadata": {},
   "outputs": [
    {
     "name": "stdout",
     "output_type": "stream",
     "text": [
      "Account Number: 1111111\n",
      "RB Statement Sarco: 15100\n",
      "pierReoscra.\n",
      "\n",
      "The Royal Bank of Scotland = SELECT ACCOUNT IBAN: GB14RBOS 1610 0011 1111 11\n",
      "\n",
      "MR TEST TESTER\n",
      "\n",
      "‘CURRENT ACCOUNT\n",
      "\n",
      "Branch Details Period 22 Oct 2014 to 21 Dec 2014\n",
      "\n",
      "ANY BRACH MRT TESTER Previous Balance £1803.90\n",
      "ANY STREET 1 TEST STREET\n",
      "\n",
      "ANY TOWN TEST TOWN Paid Out £2,684.10\n",
      "\n",
      "ANT TWN TES TER Paid In £2,180.40\n",
      "\n",
      "New Balance £300.\n",
      "a a as a a\n",
      "\n",
      "BRIGHT FORWARD ranean\n",
      "\n",
      "22. Oct 2014 AUTOMATED PAY IN 650274051211-CHB 190.40 1803.9\n",
      "CALL REF, NO. 3442, FROM\n",
      "\n",
      "220ct 2014 DIGITAL BANKING ft oanonone 140.00 16135\n",
      "24 Oct 2014 Faster Payment Amazon 132.30 14735\n",
      "24 Oct 2014 BACS Tebay Trading Co. 516.22 1341.2\n",
      "25 Oct 2014 Faster Payment Morrisons Petrol 80.00 825.98\n",
      "25 Oct 2014 BACS Business Loan 20,000.00 745.98\n",
      "26 Oct 2014 BACS James White Media 246155 0745.98\n",
      "21 Oct 2014 Faster Payment ATM High Street 100.00 18284.43\n",
      "01 Nov 2014 BACS Acorn Advertising Studies 180.00 18184.43\n",
      "01 Nov 2014 BACS Marriott Hote! 17.00 18034.43\n",
      "01 Nov 2014 Faster Payment ——_Abellio Scotrail Lid 122.22 © 17857.43\n",
      "01 Nov 2014 CHO Cheque 0000234 1,200.00 1735.21\n",
      "(01 Dec 2014 Int. Bank Interest Paid 9.33 16535.21\n",
      "01 Dec 2014 DD OVO Energy 2470.00 1654454\n",
      "21 Dec 2014 BACS Various Payment 1052640 1407454\n",
      "21 Dec 2014 BACS HMRC 1,000.00 © 3548.14\n",
      "21 Dec 2014 DD DVLA 28000 2548.14\n",
      "\n",
      "Balance Received Forward\n",
      "\n",
      "\n"
     ]
    },
    {
     "data": {
      "text/plain": [
       "1"
      ]
     },
     "execution_count": 2,
     "metadata": {},
     "output_type": "execute_result"
    }
   ],
   "source": [
    "import pytesseract\n",
    "from PIL import Image\n",
    "import re\n",
    "\n",
    "# Load the bank statement image\n",
    "image_path = \"img1.png\"\n",
    "image = Image.open(image_path)\n",
    "\n",
    "# Use OCR to extract text from the image\n",
    "extracted_text = pytesseract.image_to_string(image)\n",
    "\n",
    "# Print extracted text for inspection\n",
    "print(extracted_text)\n",
    "1"
   ]
  },
  {
   "cell_type": "code",
   "execution_count": 7,
   "metadata": {},
   "outputs": [
    {
     "name": "stdout",
     "output_type": "stream",
     "text": [
      "Account Number: 1111111\n",
      "RB Statement Sarco: 15100\n",
      "pierReoscra.\n",
      "\n",
      "The Royal Bank of Scotland = SELECT ACCOUNT IBAN: GB14RBOS 1610 0011 1111 11\n",
      "\n",
      "MR TEST TESTER\n",
      "\n",
      "‘CURRENT ACCOUNT\n",
      "\n",
      "Branch Details Period 22 Oct 2014 to 21 Dec 2014\n",
      "\n",
      "ANY BRACH MRT TESTER Previous Balance £1803.90\n",
      "ANY STREET 1 TEST STREET\n",
      "\n",
      "ANY TOWN TEST TOWN Paid Out £2,684.10\n",
      "\n",
      "ANT TWN TES TER Paid In £2,180.40\n",
      "\n",
      "New Balance £300.\n",
      "a a as a a\n",
      "\n",
      "BRIGHT FORWARD ranean\n",
      "\n",
      "22. Oct 2014 AUTOMATED PAY IN 650274051211-CHB 190.40 1803.9\n",
      "CALL REF, NO. 3442, FROM\n",
      "\n",
      "220ct 2014 DIGITAL BANKING ft oanonone 140.00 16135\n",
      "24 Oct 2014 Faster Payment Amazon 132.30 14735\n",
      "24 Oct 2014 BACS Tebay Trading Co. 516.22 1341.2\n",
      "25 Oct 2014 Faster Payment Morrisons Petrol 80.00 825.98\n",
      "25 Oct 2014 BACS Business Loan 20,000.00 745.98\n",
      "26 Oct 2014 BACS James White Media 246155 0745.98\n",
      "21 Oct 2014 Faster Payment ATM High Street 100.00 18284.43\n",
      "01 Nov 2014 BACS Acorn Advertising Studies 180.00 18184.43\n",
      "01 Nov 2014 BACS Marriott Hote! 17.00 18034.43\n",
      "01 Nov 2014 Faster Payment ——_Abellio Scotrail Lid 122.22 © 17857.43\n",
      "01 Nov 2014 CHO Cheque 0000234 1,200.00 1735.21\n",
      "(01 Dec 2014 Int. Bank Interest Paid 9.33 16535.21\n",
      "01 Dec 2014 DD OVO Energy 2470.00 1654454\n",
      "21 Dec 2014 BACS Various Payment 1052640 1407454\n",
      "21 Dec 2014 BACS HMRC 1,000.00 © 3548.14\n",
      "21 Dec 2014 DD DVLA 28000 2548.14\n",
      "\n",
      "Balance Received Forward\n",
      "\n",
      "\n"
     ]
    }
   ],
   "source": [
    "import pytesseract\n",
    "from PIL import Image\n",
    "\n",
    "# Load an image from file\n",
    "img = Image.open('img1.png')\n",
    "\n",
    "# Use pytesseract to extract text\n",
    "text = pytesseract.image_to_string(img)\n",
    "\n",
    "print(text)\n"
   ]
  },
  {
   "cell_type": "code",
   "execution_count": 9,
   "metadata": {},
   "outputs": [
    {
     "name": "stdout",
     "output_type": "stream",
     "text": [
      "Collecting nltk\n",
      "  Using cached nltk-3.8.1-py3-none-any.whl.metadata (2.8 kB)\n",
      "Collecting click (from nltk)\n",
      "  Using cached click-8.1.7-py3-none-any.whl.metadata (3.0 kB)\n",
      "Collecting joblib (from nltk)\n",
      "  Using cached joblib-1.4.2-py3-none-any.whl.metadata (5.4 kB)\n",
      "Collecting regex>=2021.8.3 (from nltk)\n",
      "  Using cached regex-2024.5.15-cp310-cp310-win_amd64.whl.metadata (41 kB)\n",
      "Collecting tqdm (from nltk)\n",
      "  Using cached tqdm-4.66.4-py3-none-any.whl.metadata (57 kB)\n",
      "Requirement already satisfied: colorama in c:\\users\\poppo\\anaconda3\\envs\\image1\\lib\\site-packages (from click->nltk) (0.4.6)\n",
      "Using cached nltk-3.8.1-py3-none-any.whl (1.5 MB)\n",
      "Using cached regex-2024.5.15-cp310-cp310-win_amd64.whl (268 kB)\n",
      "Using cached click-8.1.7-py3-none-any.whl (97 kB)\n",
      "Using cached joblib-1.4.2-py3-none-any.whl (301 kB)\n",
      "Using cached tqdm-4.66.4-py3-none-any.whl (78 kB)\n",
      "Installing collected packages: tqdm, regex, joblib, click, nltk\n",
      "Successfully installed click-8.1.7 joblib-1.4.2 nltk-3.8.1 regex-2024.5.15 tqdm-4.66.4\n"
     ]
    },
    {
     "name": "stderr",
     "output_type": "stream",
     "text": [
      "ERROR: pip's dependency resolver does not currently take into account all the packages that are installed. This behaviour is the source of the following dependency conflicts.\n",
      "spacy 3.6.1 requires requests<3.0.0,>=2.13.0, which is not installed.\n",
      "spacy 3.6.1 requires smart-open<7.0.0,>=5.2.1, which is not installed.\n"
     ]
    }
   ],
   "source": [
    "!pip install nltk"
   ]
  },
  {
   "cell_type": "code",
   "execution_count": 10,
   "metadata": {},
   "outputs": [
    {
     "name": "stdout",
     "output_type": "stream",
     "text": [
      "Collecting sentence_transformers\n",
      "  Using cached sentence_transformers-3.0.1-py3-none-any.whl.metadata (10 kB)\n",
      "Collecting transformers<5.0.0,>=4.34.0 (from sentence_transformers)\n",
      "  Using cached transformers-4.41.2-py3-none-any.whl.metadata (43 kB)\n",
      "Requirement already satisfied: tqdm in c:\\users\\poppo\\anaconda3\\envs\\image1\\lib\\site-packages (from sentence_transformers) (4.66.4)\n",
      "Requirement already satisfied: torch>=1.11.0 in c:\\users\\poppo\\anaconda3\\envs\\image1\\lib\\site-packages (from sentence_transformers) (2.3.1)\n",
      "Requirement already satisfied: numpy in c:\\users\\poppo\\anaconda3\\envs\\image1\\lib\\site-packages (from sentence_transformers) (2.0.0)\n",
      "Collecting scikit-learn (from sentence_transformers)\n",
      "  Using cached scikit_learn-1.5.0-cp310-cp310-win_amd64.whl.metadata (11 kB)\n",
      "Requirement already satisfied: scipy in c:\\users\\poppo\\anaconda3\\envs\\image1\\lib\\site-packages (from sentence_transformers) (1.14.0)\n",
      "Collecting huggingface-hub>=0.15.1 (from sentence_transformers)\n",
      "  Using cached huggingface_hub-0.23.4-py3-none-any.whl.metadata (12 kB)\n",
      "Requirement already satisfied: Pillow in c:\\users\\poppo\\anaconda3\\envs\\image1\\lib\\site-packages (from sentence_transformers) (10.3.0)\n",
      "Requirement already satisfied: filelock in c:\\users\\poppo\\anaconda3\\envs\\image1\\lib\\site-packages (from huggingface-hub>=0.15.1->sentence_transformers) (3.15.4)\n",
      "Requirement already satisfied: fsspec>=2023.5.0 in c:\\users\\poppo\\anaconda3\\envs\\image1\\lib\\site-packages (from huggingface-hub>=0.15.1->sentence_transformers) (2024.6.0)\n",
      "Requirement already satisfied: packaging>=20.9 in c:\\users\\poppo\\appdata\\roaming\\python\\python310\\site-packages (from huggingface-hub>=0.15.1->sentence_transformers) (23.2)\n",
      "Requirement already satisfied: pyyaml>=5.1 in c:\\users\\poppo\\anaconda3\\envs\\image1\\lib\\site-packages (from huggingface-hub>=0.15.1->sentence_transformers) (6.0.1)\n",
      "Collecting requests (from huggingface-hub>=0.15.1->sentence_transformers)\n",
      "  Using cached requests-2.32.3-py3-none-any.whl.metadata (4.6 kB)\n",
      "Requirement already satisfied: typing-extensions>=3.7.4.3 in c:\\users\\poppo\\anaconda3\\envs\\image1\\lib\\site-packages (from huggingface-hub>=0.15.1->sentence_transformers) (4.12.2)\n",
      "Requirement already satisfied: sympy in c:\\users\\poppo\\anaconda3\\envs\\image1\\lib\\site-packages (from torch>=1.11.0->sentence_transformers) (1.12.1)\n",
      "Requirement already satisfied: networkx in c:\\users\\poppo\\anaconda3\\envs\\image1\\lib\\site-packages (from torch>=1.11.0->sentence_transformers) (3.3)\n",
      "Requirement already satisfied: jinja2 in c:\\users\\poppo\\anaconda3\\envs\\image1\\lib\\site-packages (from torch>=1.11.0->sentence_transformers) (3.1.4)\n",
      "Requirement already satisfied: mkl<=2021.4.0,>=2021.1.1 in c:\\users\\poppo\\anaconda3\\envs\\image1\\lib\\site-packages (from torch>=1.11.0->sentence_transformers) (2021.4.0)\n",
      "Requirement already satisfied: colorama in c:\\users\\poppo\\anaconda3\\envs\\image1\\lib\\site-packages (from tqdm->sentence_transformers) (0.4.6)\n",
      "Requirement already satisfied: regex!=2019.12.17 in c:\\users\\poppo\\anaconda3\\envs\\image1\\lib\\site-packages (from transformers<5.0.0,>=4.34.0->sentence_transformers) (2024.5.15)\n",
      "Collecting tokenizers<0.20,>=0.19 (from transformers<5.0.0,>=4.34.0->sentence_transformers)\n",
      "  Using cached tokenizers-0.19.1-cp310-none-win_amd64.whl.metadata (6.9 kB)\n",
      "Collecting safetensors>=0.4.1 (from transformers<5.0.0,>=4.34.0->sentence_transformers)\n",
      "  Using cached safetensors-0.4.3-cp310-none-win_amd64.whl.metadata (3.9 kB)\n",
      "Requirement already satisfied: joblib>=1.2.0 in c:\\users\\poppo\\anaconda3\\envs\\image1\\lib\\site-packages (from scikit-learn->sentence_transformers) (1.4.2)\n",
      "Collecting threadpoolctl>=3.1.0 (from scikit-learn->sentence_transformers)\n",
      "  Using cached threadpoolctl-3.5.0-py3-none-any.whl.metadata (13 kB)\n",
      "Requirement already satisfied: intel-openmp==2021.* in c:\\users\\poppo\\anaconda3\\envs\\image1\\lib\\site-packages (from mkl<=2021.4.0,>=2021.1.1->torch>=1.11.0->sentence_transformers) (2021.4.0)\n",
      "Requirement already satisfied: tbb==2021.* in c:\\users\\poppo\\anaconda3\\envs\\image1\\lib\\site-packages (from mkl<=2021.4.0,>=2021.1.1->torch>=1.11.0->sentence_transformers) (2021.13.0)\n",
      "Requirement already satisfied: MarkupSafe>=2.0 in c:\\users\\poppo\\anaconda3\\envs\\image1\\lib\\site-packages (from jinja2->torch>=1.11.0->sentence_transformers) (2.1.5)\n",
      "Collecting charset-normalizer<4,>=2 (from requests->huggingface-hub>=0.15.1->sentence_transformers)\n",
      "  Using cached charset_normalizer-3.3.2-cp310-cp310-win_amd64.whl.metadata (34 kB)\n",
      "Collecting idna<4,>=2.5 (from requests->huggingface-hub>=0.15.1->sentence_transformers)\n",
      "  Using cached idna-3.7-py3-none-any.whl.metadata (9.9 kB)\n",
      "Collecting urllib3<3,>=1.21.1 (from requests->huggingface-hub>=0.15.1->sentence_transformers)\n",
      "  Using cached urllib3-2.2.2-py3-none-any.whl.metadata (6.4 kB)\n",
      "Collecting certifi>=2017.4.17 (from requests->huggingface-hub>=0.15.1->sentence_transformers)\n",
      "  Using cached certifi-2024.6.2-py3-none-any.whl.metadata (2.2 kB)\n",
      "Requirement already satisfied: mpmath<1.4.0,>=1.1.0 in c:\\users\\poppo\\anaconda3\\envs\\image1\\lib\\site-packages (from sympy->torch>=1.11.0->sentence_transformers) (1.3.0)\n",
      "Using cached sentence_transformers-3.0.1-py3-none-any.whl (227 kB)\n",
      "Using cached huggingface_hub-0.23.4-py3-none-any.whl (402 kB)\n",
      "Using cached transformers-4.41.2-py3-none-any.whl (9.1 MB)\n",
      "Using cached scikit_learn-1.5.0-cp310-cp310-win_amd64.whl (11.0 MB)\n",
      "Using cached safetensors-0.4.3-cp310-none-win_amd64.whl (287 kB)\n",
      "Using cached threadpoolctl-3.5.0-py3-none-any.whl (18 kB)\n",
      "Using cached tokenizers-0.19.1-cp310-none-win_amd64.whl (2.2 MB)\n",
      "Using cached requests-2.32.3-py3-none-any.whl (64 kB)\n",
      "Using cached certifi-2024.6.2-py3-none-any.whl (164 kB)\n",
      "Using cached charset_normalizer-3.3.2-cp310-cp310-win_amd64.whl (100 kB)\n",
      "Using cached idna-3.7-py3-none-any.whl (66 kB)\n",
      "Using cached urllib3-2.2.2-py3-none-any.whl (121 kB)\n",
      "Installing collected packages: urllib3, threadpoolctl, safetensors, idna, charset-normalizer, certifi, scikit-learn, requests, huggingface-hub, tokenizers, transformers, sentence_transformers\n",
      "Successfully installed certifi-2024.6.2 charset-normalizer-3.3.2 huggingface-hub-0.23.4 idna-3.7 requests-2.32.3 safetensors-0.4.3 scikit-learn-1.5.0 sentence_transformers-3.0.1 threadpoolctl-3.5.0 tokenizers-0.19.1 transformers-4.41.2 urllib3-2.2.2\n"
     ]
    },
    {
     "name": "stderr",
     "output_type": "stream",
     "text": [
      "ERROR: pip's dependency resolver does not currently take into account all the packages that are installed. This behaviour is the source of the following dependency conflicts.\n",
      "httpx 0.25.2 requires anyio, which is not installed.\n",
      "httpx 0.25.2 requires sniffio, which is not installed.\n",
      "spacy 3.6.1 requires smart-open<7.0.0,>=5.2.1, which is not installed.\n",
      "tensorboard 2.13.0 requires google-auth<3,>=1.6.3, which is not installed.\n",
      "tensorboard 2.13.0 requires grpcio>=1.48.2, which is not installed.\n",
      "tensorboard 2.13.0 requires markdown>=2.6.8, which is not installed.\n",
      "tensorboard 2.13.0 requires werkzeug>=1.0.1, which is not installed.\n",
      "tensorflow-intel 2.13.0 requires grpcio<2.0,>=1.24.3, which is not installed.\n",
      "tensorflow-intel 2.13.0 requires h5py>=2.9.0, which is not installed.\n",
      "tensorflow-intel 2.13.0 requires wrapt>=1.11.0, which is not installed.\n",
      "tensorflow-intel 2.13.0 requires numpy<=1.24.3,>=1.22, but you have numpy 2.0.0 which is incompatible.\n",
      "tensorflow-intel 2.13.0 requires typing-extensions<4.6.0,>=3.6.6, but you have typing-extensions 4.12.2 which is incompatible.\n"
     ]
    }
   ],
   "source": [
    "!pip install sentence_transformers"
   ]
  },
  {
   "cell_type": "code",
   "execution_count": 13,
   "metadata": {},
   "outputs": [
    {
     "name": "stderr",
     "output_type": "stream",
     "text": [
      "[nltk_data] Downloading package punkt to\n",
      "[nltk_data]     C:\\Users\\poppo\\AppData\\Roaming\\nltk_data...\n",
      "[nltk_data]   Package punkt is already up-to-date!\n"
     ]
    },
    {
     "name": "stdout",
     "output_type": "stream",
     "text": [
      "Answer: 17.00 18034.43 01 nov 2014 faster payment ——_abellio scotrail lid 122.22 © 17857.43 01 nov 2014 cho cheque 0000234 1,200.00 1735.21 (01 dec 2014 int.\n"
     ]
    }
   ],
   "source": [
    "import pytesseract\n",
    "from PIL import Image\n",
    "import re\n",
    "import nltk\n",
    "from nltk.tokenize import sent_tokenize\n",
    "from sentence_transformers import SentenceTransformer, util\n",
    "\n",
    "# Download NLTK tokenizer models if not already downloaded\n",
    "nltk.download('punkt')\n",
    "\n",
    "# Load BERT model for embeddings\n",
    "model = SentenceTransformer('all-MiniLM-L6-v2')\n",
    "\n",
    "def extract_text_from_image(image_path):\n",
    "    \"\"\"Extract text from an image using Tesseract OCR.\"\"\"\n",
    "    img = Image.open(image_path)\n",
    "    text = pytesseract.image_to_string(img)\n",
    "    return text\n",
    "\n",
    "def preprocess_text(text):\n",
    "    \"\"\"Clean and preprocess text.\"\"\"\n",
    "    text = re.sub(r'\\s+', ' ', text)  # Remove extra whitespace\n",
    "    text = text.strip().lower()\n",
    "    sentences = sent_tokenize(text)\n",
    "    return sentences\n",
    "\n",
    "def generate_embeddings(sentences):\n",
    "    \"\"\"Generate sentence embeddings using BERT.\"\"\"\n",
    "    embeddings = model.encode(sentences, convert_to_tensor=True)\n",
    "    return embeddings\n",
    "\n",
    "def answer_question(question, sentences, sentence_embeddings):\n",
    "    \"\"\"Answer user's question based on sentence embeddings.\"\"\"\n",
    "    # Generate embedding for the question\n",
    "    question_embedding = model.encode(question, convert_to_tensor=True)\n",
    "    \n",
    "    # Compute cosine similarities between the question and each sentence\n",
    "    similarities = util.pytorch_cos_sim(question_embedding, sentence_embeddings)[0]\n",
    "    \n",
    "    # Find the index of the most similar sentence\n",
    "    best_match_idx = similarities.argmax()\n",
    "    \n",
    "    # Return the most similar sentence\n",
    "    return sentences[best_match_idx]\n",
    "\n",
    "def main():\n",
    "    # Ask user for image path and question\n",
    "    image_path = \"img1.png\"\n",
    "    question = input(\"Ask a question about the image text: \")\n",
    "    \n",
    "    # Step 1: Extract text from image\n",
    "    text = extract_text_from_image(image_path)\n",
    "    \n",
    "    # Step 2: Preprocess the text\n",
    "    sentences = preprocess_text(text)\n",
    "    \n",
    "    # Step 3: Create embeddings for the sentences\n",
    "    sentence_embeddings = generate_embeddings(sentences)\n",
    "    \n",
    "    # Step 4: Answer the user's question\n",
    "    answer = answer_question(question, sentences, sentence_embeddings)\n",
    "    \n",
    "    # Print the answer\n",
    "    print(\"Answer:\", answer)\n",
    "\n",
    "# Run the main function\n",
    "if __name__ == \"__main__\":\n",
    "    main()\n"
   ]
  },
  {
   "cell_type": "code",
   "execution_count": null,
   "metadata": {},
   "outputs": [],
   "source": []
  }
 ],
 "metadata": {
  "kernelspec": {
   "display_name": "image",
   "language": "python",
   "name": "python3"
  },
  "language_info": {
   "codemirror_mode": {
    "name": "ipython",
    "version": 3
   },
   "file_extension": ".py",
   "mimetype": "text/x-python",
   "name": "python",
   "nbconvert_exporter": "python",
   "pygments_lexer": "ipython3",
   "version": "3.10.14"
  }
 },
 "nbformat": 4,
 "nbformat_minor": 2
}
